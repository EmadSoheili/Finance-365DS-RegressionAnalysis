{
 "cells": [
  {
   "cell_type": "code",
   "execution_count": 3,
   "metadata": {
    "collapsed": true
   },
   "outputs": [],
   "source": [
    "import numpy as np\n",
    "import pandas as pd\n",
    "from scipy import stats\n",
    "import statsmodels.api as sm\n",
    "import matplotlib.pyplot as plt\n",
    "import os\n",
    "%matplotlib inline"
   ]
  },
  {
   "cell_type": "code",
   "execution_count": 5,
   "outputs": [
    {
     "data": {
      "text/plain": "    House Price  House Size (sq.ft.) State  Number of Rooms  \\\n0       1116000                 1940    IN                8   \n1        860000                 1300    IN                5   \n2        818400                 1420    IN                6   \n3       1000000                 1680    IN                7   \n4        640000                 1270    IN                5   \n5       1010000                 1850    IN                7   \n6        600000                 1000    IN                4   \n7        700000                 1100   LA                 4   \n8       1100000                 1600   LA                 7   \n9        570000                 1000    NY                5   \n10       860000                 2150    NY                9   \n11      1085000                 1900    NY                9   \n12      1250000                 2200    NY                9   \n13       850000                 1100    TX                4   \n14       640000                  860    TX                4   \n15       900000                 1325    TX                6   \n16       730000                 1350    TX                6   \n17       750000                 1600    TX                6   \n18       650000                  950    TX                2   \n19       680000                 1250    TX                4   \n\n    Year of Construction  \n0                   2002  \n1                   1992  \n2                   1987  \n3                   2000  \n4                   1995  \n5                   1998  \n6                   2015  \n7                   2014  \n8                   2017  \n9                   1997  \n10                  1997  \n11                  2000  \n12                  2014  \n13                  2017  \n14                  1997  \n15                  1997  \n16                  2000  \n17                  1992  \n18                  1987  \n19                  2000  ",
      "text/html": "<div>\n<style scoped>\n    .dataframe tbody tr th:only-of-type {\n        vertical-align: middle;\n    }\n\n    .dataframe tbody tr th {\n        vertical-align: top;\n    }\n\n    .dataframe thead th {\n        text-align: right;\n    }\n</style>\n<table border=\"1\" class=\"dataframe\">\n  <thead>\n    <tr style=\"text-align: right;\">\n      <th></th>\n      <th>House Price</th>\n      <th>House Size (sq.ft.)</th>\n      <th>State</th>\n      <th>Number of Rooms</th>\n      <th>Year of Construction</th>\n    </tr>\n  </thead>\n  <tbody>\n    <tr>\n      <th>0</th>\n      <td>1116000</td>\n      <td>1940</td>\n      <td>IN</td>\n      <td>8</td>\n      <td>2002</td>\n    </tr>\n    <tr>\n      <th>1</th>\n      <td>860000</td>\n      <td>1300</td>\n      <td>IN</td>\n      <td>5</td>\n      <td>1992</td>\n    </tr>\n    <tr>\n      <th>2</th>\n      <td>818400</td>\n      <td>1420</td>\n      <td>IN</td>\n      <td>6</td>\n      <td>1987</td>\n    </tr>\n    <tr>\n      <th>3</th>\n      <td>1000000</td>\n      <td>1680</td>\n      <td>IN</td>\n      <td>7</td>\n      <td>2000</td>\n    </tr>\n    <tr>\n      <th>4</th>\n      <td>640000</td>\n      <td>1270</td>\n      <td>IN</td>\n      <td>5</td>\n      <td>1995</td>\n    </tr>\n    <tr>\n      <th>5</th>\n      <td>1010000</td>\n      <td>1850</td>\n      <td>IN</td>\n      <td>7</td>\n      <td>1998</td>\n    </tr>\n    <tr>\n      <th>6</th>\n      <td>600000</td>\n      <td>1000</td>\n      <td>IN</td>\n      <td>4</td>\n      <td>2015</td>\n    </tr>\n    <tr>\n      <th>7</th>\n      <td>700000</td>\n      <td>1100</td>\n      <td>LA</td>\n      <td>4</td>\n      <td>2014</td>\n    </tr>\n    <tr>\n      <th>8</th>\n      <td>1100000</td>\n      <td>1600</td>\n      <td>LA</td>\n      <td>7</td>\n      <td>2017</td>\n    </tr>\n    <tr>\n      <th>9</th>\n      <td>570000</td>\n      <td>1000</td>\n      <td>NY</td>\n      <td>5</td>\n      <td>1997</td>\n    </tr>\n    <tr>\n      <th>10</th>\n      <td>860000</td>\n      <td>2150</td>\n      <td>NY</td>\n      <td>9</td>\n      <td>1997</td>\n    </tr>\n    <tr>\n      <th>11</th>\n      <td>1085000</td>\n      <td>1900</td>\n      <td>NY</td>\n      <td>9</td>\n      <td>2000</td>\n    </tr>\n    <tr>\n      <th>12</th>\n      <td>1250000</td>\n      <td>2200</td>\n      <td>NY</td>\n      <td>9</td>\n      <td>2014</td>\n    </tr>\n    <tr>\n      <th>13</th>\n      <td>850000</td>\n      <td>1100</td>\n      <td>TX</td>\n      <td>4</td>\n      <td>2017</td>\n    </tr>\n    <tr>\n      <th>14</th>\n      <td>640000</td>\n      <td>860</td>\n      <td>TX</td>\n      <td>4</td>\n      <td>1997</td>\n    </tr>\n    <tr>\n      <th>15</th>\n      <td>900000</td>\n      <td>1325</td>\n      <td>TX</td>\n      <td>6</td>\n      <td>1997</td>\n    </tr>\n    <tr>\n      <th>16</th>\n      <td>730000</td>\n      <td>1350</td>\n      <td>TX</td>\n      <td>6</td>\n      <td>2000</td>\n    </tr>\n    <tr>\n      <th>17</th>\n      <td>750000</td>\n      <td>1600</td>\n      <td>TX</td>\n      <td>6</td>\n      <td>1992</td>\n    </tr>\n    <tr>\n      <th>18</th>\n      <td>650000</td>\n      <td>950</td>\n      <td>TX</td>\n      <td>2</td>\n      <td>1987</td>\n    </tr>\n    <tr>\n      <th>19</th>\n      <td>680000</td>\n      <td>1250</td>\n      <td>TX</td>\n      <td>4</td>\n      <td>2000</td>\n    </tr>\n  </tbody>\n</table>\n</div>"
     },
     "execution_count": 5,
     "metadata": {},
     "output_type": "execute_result"
    }
   ],
   "source": [
    "data = pd.read_excel(os.path.join('Input', 'Housing.xlsx'))\n",
    "data"
   ],
   "metadata": {
    "collapsed": false
   }
  },
  {
   "cell_type": "code",
   "execution_count": 8,
   "outputs": [],
   "source": [
    "x = data[['House Size (sq.ft.)', 'Number of Rooms', 'Year of Construction']]\n",
    "y = data['House Price']"
   ],
   "metadata": {
    "collapsed": false
   }
  },
  {
   "cell_type": "code",
   "execution_count": 9,
   "outputs": [
    {
     "data": {
      "text/plain": "<class 'statsmodels.iolib.summary.Summary'>\n\"\"\"\n                            OLS Regression Results                            \n==============================================================================\nDep. Variable:            House Price   R-squared:                       0.736\nModel:                            OLS   Adj. R-squared:                  0.687\nMethod:                 Least Squares   F-statistic:                     14.90\nDate:                Fri, 11 Nov 2022   Prob (F-statistic):           6.82e-05\nTime:                        19:16:12   Log-Likelihood:                -258.43\nNo. Observations:                  20   AIC:                             524.9\nDf Residuals:                      16   BIC:                             528.9\nDf Model:                           3                                         \nCovariance Type:            nonrobust                                         \n========================================================================================\n                           coef    std err          t      P>|t|      [0.025      0.975]\n----------------------------------------------------------------------------------------\nconst                -9.452e+06    5.4e+06     -1.752      0.099   -2.09e+07    1.99e+06\nHouse Size (sq.ft.)    341.8271    179.666      1.903      0.075     -39.049     722.703\nNumber of Rooms        1.16e+04   3.74e+04      0.310      0.760   -6.77e+04    9.08e+04\nYear of Construction  4863.5761   2697.969      1.803      0.090    -855.862    1.06e+04\n==============================================================================\nOmnibus:                        2.140   Durbin-Watson:                   1.938\nProb(Omnibus):                  0.343   Jarque-Bera (JB):                1.747\nSkew:                          -0.676   Prob(JB):                        0.418\nKurtosis:                       2.484   Cond. No.                     5.40e+05\n==============================================================================\n\nNotes:\n[1] Standard Errors assume that the covariance matrix of the errors is correctly specified.\n[2] The condition number is large, 5.4e+05. This might indicate that there are\nstrong multicollinearity or other numerical problems.\n\"\"\"",
      "text/html": "<table class=\"simpletable\">\n<caption>OLS Regression Results</caption>\n<tr>\n  <th>Dep. Variable:</th>       <td>House Price</td>   <th>  R-squared:         </th> <td>   0.736</td>\n</tr>\n<tr>\n  <th>Model:</th>                   <td>OLS</td>       <th>  Adj. R-squared:    </th> <td>   0.687</td>\n</tr>\n<tr>\n  <th>Method:</th>             <td>Least Squares</td>  <th>  F-statistic:       </th> <td>   14.90</td>\n</tr>\n<tr>\n  <th>Date:</th>             <td>Fri, 11 Nov 2022</td> <th>  Prob (F-statistic):</th> <td>6.82e-05</td>\n</tr>\n<tr>\n  <th>Time:</th>                 <td>19:16:12</td>     <th>  Log-Likelihood:    </th> <td> -258.43</td>\n</tr>\n<tr>\n  <th>No. Observations:</th>      <td>    20</td>      <th>  AIC:               </th> <td>   524.9</td>\n</tr>\n<tr>\n  <th>Df Residuals:</th>          <td>    16</td>      <th>  BIC:               </th> <td>   528.9</td>\n</tr>\n<tr>\n  <th>Df Model:</th>              <td>     3</td>      <th>                     </th>     <td> </td>   \n</tr>\n<tr>\n  <th>Covariance Type:</th>      <td>nonrobust</td>    <th>                     </th>     <td> </td>   \n</tr>\n</table>\n<table class=\"simpletable\">\n<tr>\n            <td></td>              <th>coef</th>     <th>std err</th>      <th>t</th>      <th>P>|t|</th>  <th>[0.025</th>    <th>0.975]</th>  \n</tr>\n<tr>\n  <th>const</th>                <td>-9.452e+06</td> <td>  5.4e+06</td> <td>   -1.752</td> <td> 0.099</td> <td>-2.09e+07</td> <td> 1.99e+06</td>\n</tr>\n<tr>\n  <th>House Size (sq.ft.)</th>  <td>  341.8271</td> <td>  179.666</td> <td>    1.903</td> <td> 0.075</td> <td>  -39.049</td> <td>  722.703</td>\n</tr>\n<tr>\n  <th>Number of Rooms</th>      <td>  1.16e+04</td> <td> 3.74e+04</td> <td>    0.310</td> <td> 0.760</td> <td>-6.77e+04</td> <td> 9.08e+04</td>\n</tr>\n<tr>\n  <th>Year of Construction</th> <td> 4863.5761</td> <td> 2697.969</td> <td>    1.803</td> <td> 0.090</td> <td> -855.862</td> <td> 1.06e+04</td>\n</tr>\n</table>\n<table class=\"simpletable\">\n<tr>\n  <th>Omnibus:</th>       <td> 2.140</td> <th>  Durbin-Watson:     </th> <td>   1.938</td>\n</tr>\n<tr>\n  <th>Prob(Omnibus):</th> <td> 0.343</td> <th>  Jarque-Bera (JB):  </th> <td>   1.747</td>\n</tr>\n<tr>\n  <th>Skew:</th>          <td>-0.676</td> <th>  Prob(JB):          </th> <td>   0.418</td>\n</tr>\n<tr>\n  <th>Kurtosis:</th>      <td> 2.484</td> <th>  Cond. No.          </th> <td>5.40e+05</td>\n</tr>\n</table><br/><br/>Notes:<br/>[1] Standard Errors assume that the covariance matrix of the errors is correctly specified.<br/>[2] The condition number is large, 5.4e+05. This might indicate that there are<br/>strong multicollinearity or other numerical problems."
     },
     "execution_count": 9,
     "metadata": {},
     "output_type": "execute_result"
    }
   ],
   "source": [
    "x1 = sm.add_constant(x)\n",
    "reg = sm.OLS(y,x1).fit()\n",
    "reg.summary()"
   ],
   "metadata": {
    "collapsed": false
   }
  },
  {
   "cell_type": "code",
   "execution_count": 13,
   "outputs": [
    {
     "data": {
      "text/plain": "<class 'statsmodels.iolib.summary.Summary'>\n\"\"\"\n                            OLS Regression Results                            \n==============================================================================\nDep. Variable:            House Price   R-squared:                       0.683\nModel:                            OLS   Adj. R-squared:                  0.645\nMethod:                 Least Squares   F-statistic:                     18.30\nDate:                Fri, 11 Nov 2022   Prob (F-statistic):           5.77e-05\nTime:                        19:24:19   Log-Likelihood:                -260.28\nNo. Observations:                  20   AIC:                             526.6\nDf Residuals:                      17   BIC:                             529.6\nDf Model:                           2                                         \nCovariance Type:            nonrobust                                         \n=======================================================================================\n                          coef    std err          t      P>|t|      [0.025      0.975]\n---------------------------------------------------------------------------------------\nconst                2.737e+05   1.03e+05      2.655      0.017    5.62e+04    4.91e+05\nHouse Size (sq.ft.)   314.1363    190.485      1.649      0.117     -87.752     716.025\nNumber of Rooms      1.944e+04   3.95e+04      0.492      0.629   -6.39e+04    1.03e+05\n==============================================================================\nOmnibus:                        1.326   Durbin-Watson:                   1.852\nProb(Omnibus):                  0.515   Jarque-Bera (JB):                0.810\nSkew:                          -0.487   Prob(JB):                        0.667\nKurtosis:                       2.853   Cond. No.                     5.89e+03\n==============================================================================\n\nNotes:\n[1] Standard Errors assume that the covariance matrix of the errors is correctly specified.\n[2] The condition number is large, 5.89e+03. This might indicate that there are\nstrong multicollinearity or other numerical problems.\n\"\"\"",
      "text/html": "<table class=\"simpletable\">\n<caption>OLS Regression Results</caption>\n<tr>\n  <th>Dep. Variable:</th>       <td>House Price</td>   <th>  R-squared:         </th> <td>   0.683</td>\n</tr>\n<tr>\n  <th>Model:</th>                   <td>OLS</td>       <th>  Adj. R-squared:    </th> <td>   0.645</td>\n</tr>\n<tr>\n  <th>Method:</th>             <td>Least Squares</td>  <th>  F-statistic:       </th> <td>   18.30</td>\n</tr>\n<tr>\n  <th>Date:</th>             <td>Fri, 11 Nov 2022</td> <th>  Prob (F-statistic):</th> <td>5.77e-05</td>\n</tr>\n<tr>\n  <th>Time:</th>                 <td>19:24:19</td>     <th>  Log-Likelihood:    </th> <td> -260.28</td>\n</tr>\n<tr>\n  <th>No. Observations:</th>      <td>    20</td>      <th>  AIC:               </th> <td>   526.6</td>\n</tr>\n<tr>\n  <th>Df Residuals:</th>          <td>    17</td>      <th>  BIC:               </th> <td>   529.6</td>\n</tr>\n<tr>\n  <th>Df Model:</th>              <td>     2</td>      <th>                     </th>     <td> </td>   \n</tr>\n<tr>\n  <th>Covariance Type:</th>      <td>nonrobust</td>    <th>                     </th>     <td> </td>   \n</tr>\n</table>\n<table class=\"simpletable\">\n<tr>\n           <td></td>              <th>coef</th>     <th>std err</th>      <th>t</th>      <th>P>|t|</th>  <th>[0.025</th>    <th>0.975]</th>  \n</tr>\n<tr>\n  <th>const</th>               <td> 2.737e+05</td> <td> 1.03e+05</td> <td>    2.655</td> <td> 0.017</td> <td> 5.62e+04</td> <td> 4.91e+05</td>\n</tr>\n<tr>\n  <th>House Size (sq.ft.)</th> <td>  314.1363</td> <td>  190.485</td> <td>    1.649</td> <td> 0.117</td> <td>  -87.752</td> <td>  716.025</td>\n</tr>\n<tr>\n  <th>Number of Rooms</th>     <td> 1.944e+04</td> <td> 3.95e+04</td> <td>    0.492</td> <td> 0.629</td> <td>-6.39e+04</td> <td> 1.03e+05</td>\n</tr>\n</table>\n<table class=\"simpletable\">\n<tr>\n  <th>Omnibus:</th>       <td> 1.326</td> <th>  Durbin-Watson:     </th> <td>   1.852</td>\n</tr>\n<tr>\n  <th>Prob(Omnibus):</th> <td> 0.515</td> <th>  Jarque-Bera (JB):  </th> <td>   0.810</td>\n</tr>\n<tr>\n  <th>Skew:</th>          <td>-0.487</td> <th>  Prob(JB):          </th> <td>   0.667</td>\n</tr>\n<tr>\n  <th>Kurtosis:</th>      <td> 2.853</td> <th>  Cond. No.          </th> <td>5.89e+03</td>\n</tr>\n</table><br/><br/>Notes:<br/>[1] Standard Errors assume that the covariance matrix of the errors is correctly specified.<br/>[2] The condition number is large, 5.89e+03. This might indicate that there are<br/>strong multicollinearity or other numerical problems."
     },
     "execution_count": 13,
     "metadata": {},
     "output_type": "execute_result"
    }
   ],
   "source": [
    "x = data[['House Size (sq.ft.)', 'Number of Rooms']]\n",
    "y = data['House Price']\n",
    "x1 = sm.add_constant(x)\n",
    "reg = sm.OLS(y,x1).fit()\n",
    "reg.summary()"
   ],
   "metadata": {
    "collapsed": false
   }
  },
  {
   "cell_type": "code",
   "execution_count": 14,
   "outputs": [
    {
     "data": {
      "text/plain": "<class 'statsmodels.iolib.summary.Summary'>\n\"\"\"\n                            OLS Regression Results                            \n==============================================================================\nDep. Variable:            House Price   R-squared:                       0.735\nModel:                            OLS   Adj. R-squared:                  0.704\nMethod:                 Least Squares   F-statistic:                     23.55\nDate:                Fri, 11 Nov 2022   Prob (F-statistic):           1.26e-05\nTime:                        19:24:29   Log-Likelihood:                -258.49\nNo. Observations:                  20   AIC:                             523.0\nDf Residuals:                      17   BIC:                             526.0\nDf Model:                           2                                         \nCovariance Type:            nonrobust                                         \n========================================================================================\n                           coef    std err          t      P>|t|      [0.025      0.975]\n----------------------------------------------------------------------------------------\nconst                -9.654e+06   5.21e+06     -1.852      0.081   -2.07e+07    1.34e+06\nHouse Size (sq.ft.)    394.0417     61.098      6.449      0.000     265.137     522.947\nYear of Construction  4960.9407   2607.443      1.903      0.074    -540.283    1.05e+04\n==============================================================================\nOmnibus:                        2.064   Durbin-Watson:                   1.926\nProb(Omnibus):                  0.356   Jarque-Bera (JB):                1.689\nSkew:                          -0.663   Prob(JB):                        0.430\nKurtosis:                       2.480   Cond. No.                     5.36e+05\n==============================================================================\n\nNotes:\n[1] Standard Errors assume that the covariance matrix of the errors is correctly specified.\n[2] The condition number is large, 5.36e+05. This might indicate that there are\nstrong multicollinearity or other numerical problems.\n\"\"\"",
      "text/html": "<table class=\"simpletable\">\n<caption>OLS Regression Results</caption>\n<tr>\n  <th>Dep. Variable:</th>       <td>House Price</td>   <th>  R-squared:         </th> <td>   0.735</td>\n</tr>\n<tr>\n  <th>Model:</th>                   <td>OLS</td>       <th>  Adj. R-squared:    </th> <td>   0.704</td>\n</tr>\n<tr>\n  <th>Method:</th>             <td>Least Squares</td>  <th>  F-statistic:       </th> <td>   23.55</td>\n</tr>\n<tr>\n  <th>Date:</th>             <td>Fri, 11 Nov 2022</td> <th>  Prob (F-statistic):</th> <td>1.26e-05</td>\n</tr>\n<tr>\n  <th>Time:</th>                 <td>19:24:29</td>     <th>  Log-Likelihood:    </th> <td> -258.49</td>\n</tr>\n<tr>\n  <th>No. Observations:</th>      <td>    20</td>      <th>  AIC:               </th> <td>   523.0</td>\n</tr>\n<tr>\n  <th>Df Residuals:</th>          <td>    17</td>      <th>  BIC:               </th> <td>   526.0</td>\n</tr>\n<tr>\n  <th>Df Model:</th>              <td>     2</td>      <th>                     </th>     <td> </td>   \n</tr>\n<tr>\n  <th>Covariance Type:</th>      <td>nonrobust</td>    <th>                     </th>     <td> </td>   \n</tr>\n</table>\n<table class=\"simpletable\">\n<tr>\n            <td></td>              <th>coef</th>     <th>std err</th>      <th>t</th>      <th>P>|t|</th>  <th>[0.025</th>    <th>0.975]</th>  \n</tr>\n<tr>\n  <th>const</th>                <td>-9.654e+06</td> <td> 5.21e+06</td> <td>   -1.852</td> <td> 0.081</td> <td>-2.07e+07</td> <td> 1.34e+06</td>\n</tr>\n<tr>\n  <th>House Size (sq.ft.)</th>  <td>  394.0417</td> <td>   61.098</td> <td>    6.449</td> <td> 0.000</td> <td>  265.137</td> <td>  522.947</td>\n</tr>\n<tr>\n  <th>Year of Construction</th> <td> 4960.9407</td> <td> 2607.443</td> <td>    1.903</td> <td> 0.074</td> <td> -540.283</td> <td> 1.05e+04</td>\n</tr>\n</table>\n<table class=\"simpletable\">\n<tr>\n  <th>Omnibus:</th>       <td> 2.064</td> <th>  Durbin-Watson:     </th> <td>   1.926</td>\n</tr>\n<tr>\n  <th>Prob(Omnibus):</th> <td> 0.356</td> <th>  Jarque-Bera (JB):  </th> <td>   1.689</td>\n</tr>\n<tr>\n  <th>Skew:</th>          <td>-0.663</td> <th>  Prob(JB):          </th> <td>   0.430</td>\n</tr>\n<tr>\n  <th>Kurtosis:</th>      <td> 2.480</td> <th>  Cond. No.          </th> <td>5.36e+05</td>\n</tr>\n</table><br/><br/>Notes:<br/>[1] Standard Errors assume that the covariance matrix of the errors is correctly specified.<br/>[2] The condition number is large, 5.36e+05. This might indicate that there are<br/>strong multicollinearity or other numerical problems."
     },
     "execution_count": 14,
     "metadata": {},
     "output_type": "execute_result"
    }
   ],
   "source": [
    "x = data[['House Size (sq.ft.)', 'Year of Construction']]\n",
    "y = data['House Price']\n",
    "x1 = sm.add_constant(x)\n",
    "reg = sm.OLS(y, x1).fit()\n",
    "reg.summary()"
   ],
   "metadata": {
    "collapsed": false
   }
  },
  {
   "cell_type": "code",
   "execution_count": 15,
   "outputs": [
    {
     "data": {
      "text/plain": "<class 'statsmodels.iolib.summary.Summary'>\n\"\"\"\n                            OLS Regression Results                            \n==============================================================================\nDep. Variable:            House Price   R-squared:                       0.677\nModel:                            OLS   Adj. R-squared:                  0.639\nMethod:                 Least Squares   F-statistic:                     17.79\nDate:                Fri, 11 Nov 2022   Prob (F-statistic):           6.79e-05\nTime:                        19:24:52   Log-Likelihood:                -260.47\nNo. Observations:                  20   AIC:                             526.9\nDf Residuals:                      17   BIC:                             529.9\nDf Model:                           2                                         \nCovariance Type:            nonrobust                                         \n========================================================================================\n                           coef    std err          t      P>|t|      [0.025      0.975]\n----------------------------------------------------------------------------------------\nconst                -8.471e+06   5.77e+06     -1.468      0.160   -2.06e+07     3.7e+06\nNumber of Rooms       7.824e+04    1.4e+04      5.574      0.000    4.86e+04    1.08e+05\nYear of Construction  4424.7160   2887.793      1.532      0.144   -1667.996    1.05e+04\n==============================================================================\nOmnibus:                        2.115   Durbin-Watson:                   1.959\nProb(Omnibus):                  0.347   Jarque-Bera (JB):                1.400\nSkew:                          -0.407   Prob(JB):                        0.497\nKurtosis:                       1.991   Cond. No.                     4.34e+05\n==============================================================================\n\nNotes:\n[1] Standard Errors assume that the covariance matrix of the errors is correctly specified.\n[2] The condition number is large, 4.34e+05. This might indicate that there are\nstrong multicollinearity or other numerical problems.\n\"\"\"",
      "text/html": "<table class=\"simpletable\">\n<caption>OLS Regression Results</caption>\n<tr>\n  <th>Dep. Variable:</th>       <td>House Price</td>   <th>  R-squared:         </th> <td>   0.677</td>\n</tr>\n<tr>\n  <th>Model:</th>                   <td>OLS</td>       <th>  Adj. R-squared:    </th> <td>   0.639</td>\n</tr>\n<tr>\n  <th>Method:</th>             <td>Least Squares</td>  <th>  F-statistic:       </th> <td>   17.79</td>\n</tr>\n<tr>\n  <th>Date:</th>             <td>Fri, 11 Nov 2022</td> <th>  Prob (F-statistic):</th> <td>6.79e-05</td>\n</tr>\n<tr>\n  <th>Time:</th>                 <td>19:24:52</td>     <th>  Log-Likelihood:    </th> <td> -260.47</td>\n</tr>\n<tr>\n  <th>No. Observations:</th>      <td>    20</td>      <th>  AIC:               </th> <td>   526.9</td>\n</tr>\n<tr>\n  <th>Df Residuals:</th>          <td>    17</td>      <th>  BIC:               </th> <td>   529.9</td>\n</tr>\n<tr>\n  <th>Df Model:</th>              <td>     2</td>      <th>                     </th>     <td> </td>   \n</tr>\n<tr>\n  <th>Covariance Type:</th>      <td>nonrobust</td>    <th>                     </th>     <td> </td>   \n</tr>\n</table>\n<table class=\"simpletable\">\n<tr>\n            <td></td>              <th>coef</th>     <th>std err</th>      <th>t</th>      <th>P>|t|</th>  <th>[0.025</th>    <th>0.975]</th>  \n</tr>\n<tr>\n  <th>const</th>                <td>-8.471e+06</td> <td> 5.77e+06</td> <td>   -1.468</td> <td> 0.160</td> <td>-2.06e+07</td> <td>  3.7e+06</td>\n</tr>\n<tr>\n  <th>Number of Rooms</th>      <td> 7.824e+04</td> <td>  1.4e+04</td> <td>    5.574</td> <td> 0.000</td> <td> 4.86e+04</td> <td> 1.08e+05</td>\n</tr>\n<tr>\n  <th>Year of Construction</th> <td> 4424.7160</td> <td> 2887.793</td> <td>    1.532</td> <td> 0.144</td> <td>-1667.996</td> <td> 1.05e+04</td>\n</tr>\n</table>\n<table class=\"simpletable\">\n<tr>\n  <th>Omnibus:</th>       <td> 2.115</td> <th>  Durbin-Watson:     </th> <td>   1.959</td>\n</tr>\n<tr>\n  <th>Prob(Omnibus):</th> <td> 0.347</td> <th>  Jarque-Bera (JB):  </th> <td>   1.400</td>\n</tr>\n<tr>\n  <th>Skew:</th>          <td>-0.407</td> <th>  Prob(JB):          </th> <td>   0.497</td>\n</tr>\n<tr>\n  <th>Kurtosis:</th>      <td> 1.991</td> <th>  Cond. No.          </th> <td>4.34e+05</td>\n</tr>\n</table><br/><br/>Notes:<br/>[1] Standard Errors assume that the covariance matrix of the errors is correctly specified.<br/>[2] The condition number is large, 4.34e+05. This might indicate that there are<br/>strong multicollinearity or other numerical problems."
     },
     "execution_count": 15,
     "metadata": {},
     "output_type": "execute_result"
    }
   ],
   "source": [
    "x = data[['Number of Rooms', 'Year of Construction']]\n",
    "y = data['House Price']\n",
    "x1 = sm.add_constant(x)\n",
    "reg = sm.OLS(y, x1).fit()\n",
    "reg.summary()"
   ],
   "metadata": {
    "collapsed": false
   }
  },
  {
   "cell_type": "code",
   "execution_count": null,
   "outputs": [],
   "source": [],
   "metadata": {
    "collapsed": false
   }
  }
 ],
 "metadata": {
  "kernelspec": {
   "display_name": "Python 3",
   "language": "python",
   "name": "python3"
  },
  "language_info": {
   "codemirror_mode": {
    "name": "ipython",
    "version": 2
   },
   "file_extension": ".py",
   "mimetype": "text/x-python",
   "name": "python",
   "nbconvert_exporter": "python",
   "pygments_lexer": "ipython2",
   "version": "2.7.6"
  }
 },
 "nbformat": 4,
 "nbformat_minor": 0
}
